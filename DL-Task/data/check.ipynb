{
 "cells": [
  {
   "cell_type": "code",
   "execution_count": 1,
   "metadata": {},
   "outputs": [
    {
     "name": "stdout",
     "output_type": "stream",
     "text": [
      "Number of unique labels: 50\n",
      "Labels: [0, 1, 2, 3, 4, 5, 6, 7, 8, 9, 10, 11, 12, 13, 14, 15, 16, 17, 18, 19, 20, 21, 22, 23, 24, 25, 26, 27, 28, 29, 30, 31, 32, 33, 34, 35, 36, 37, 38, 39, 40, 41, 42, 43, 44, 45, 46, 47, 48, 49]\n"
     ]
    }
   ],
   "source": [
    "import os\n",
    "\n",
    "def check_labels(data_dir):\n",
    "    label_set = set()\n",
    "    for split in ['train.txt', 'val.txt', 'test.txt']:\n",
    "        file_path = os.path.join(data_dir, split)\n",
    "        with open(file_path, 'r') as f:\n",
    "            for line in f:\n",
    "                label = int(line.split()[1])\n",
    "                label_set.add(label)\n",
    "    return label_set\n",
    "\n",
    "data_dir = \"../data\"\n",
    "label_set = check_labels(data_dir)\n",
    "print(f\"Number of unique labels: {len(label_set)}\")\n",
    "print(f\"Labels: {sorted(label_set)}\")\n"
   ]
  }
 ],
 "metadata": {
  "kernelspec": {
   "display_name": "dl2",
   "language": "python",
   "name": "python3"
  },
  "language_info": {
   "codemirror_mode": {
    "name": "ipython",
    "version": 3
   },
   "file_extension": ".py",
   "mimetype": "text/x-python",
   "name": "python",
   "nbconvert_exporter": "python",
   "pygments_lexer": "ipython3",
   "version": "3.10.14"
  }
 },
 "nbformat": 4,
 "nbformat_minor": 2
}
